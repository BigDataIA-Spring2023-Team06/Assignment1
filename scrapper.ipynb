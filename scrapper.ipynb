{
 "cells": [
  {
   "cell_type": "code",
   "execution_count": 35,
   "metadata": {},
   "outputs": [],
   "source": [
    "# ! pip install boto3\n"
   ]
  },
  {
   "cell_type": "code",
   "execution_count": 36,
   "metadata": {},
   "outputs": [],
   "source": [
    "import boto3\n",
    "import sqlite3\n",
    "import pandas as pd\n"
   ]
  },
  {
   "cell_type": "code",
   "execution_count": 37,
   "metadata": {},
   "outputs": [],
   "source": [
    "s3 = boto3.resource(\"s3\")\n",
    "bucket = s3.Bucket(\"noaa-goes18\")\n"
   ]
  },
  {
   "cell_type": "code",
   "execution_count": 38,
   "metadata": {},
   "outputs": [],
   "source": [
    "s3 = boto3.resource(\"s3\")\n",
    "bucket = s3.Bucket(\"noaa-goes18\")\n"
   ]
  },
  {
   "cell_type": "code",
   "execution_count": 39,
   "metadata": {},
   "outputs": [],
   "source": [
    "names = []\n"
   ]
  },
  {
   "cell_type": "code",
   "execution_count": 40,
   "metadata": {},
   "outputs": [],
   "source": [
    "for obj in bucket.objects.filter(Prefix=\"ABI-L1b-RadC/2022\"):\n",
    "    names.append(obj.key)\n",
    "for obj in bucket.objects.filter(Prefix=\"ABI-L1b-RadC/2023\"):\n",
    "    names.append(obj.key)\n"
   ]
  },
  {
   "cell_type": "code",
   "execution_count": 41,
   "metadata": {},
   "outputs": [],
   "source": [
    "df_names = [i.split('/') for i in names]"
   ]
  },
  {
   "cell_type": "code",
   "execution_count": 42,
   "metadata": {},
   "outputs": [],
   "source": [
    "data = pd.DataFrame(df_names,columns=['Product','Year','Day','Hour','File Name'])"
   ]
  },
  {
   "cell_type": "code",
   "execution_count": 43,
   "metadata": {},
   "outputs": [
    {
     "data": {
      "text/html": [
       "<div>\n",
       "<style scoped>\n",
       "    .dataframe tbody tr th:only-of-type {\n",
       "        vertical-align: middle;\n",
       "    }\n",
       "\n",
       "    .dataframe tbody tr th {\n",
       "        vertical-align: top;\n",
       "    }\n",
       "\n",
       "    .dataframe thead th {\n",
       "        text-align: right;\n",
       "    }\n",
       "</style>\n",
       "<table border=\"1\" class=\"dataframe\">\n",
       "  <thead>\n",
       "    <tr style=\"text-align: right;\">\n",
       "      <th></th>\n",
       "      <th>Product</th>\n",
       "      <th>Year</th>\n",
       "      <th>Day</th>\n",
       "      <th>Hour</th>\n",
       "      <th>File Name</th>\n",
       "    </tr>\n",
       "  </thead>\n",
       "  <tbody>\n",
       "    <tr>\n",
       "      <th>838376</th>\n",
       "      <td>ABI-L1b-RadC</td>\n",
       "      <td>2023</td>\n",
       "      <td>034</td>\n",
       "      <td>00</td>\n",
       "      <td>OR_ABI-L1b-RadC-M6C16_G18_s20230340021176_e202...</td>\n",
       "    </tr>\n",
       "    <tr>\n",
       "      <th>838377</th>\n",
       "      <td>ABI-L1b-RadC</td>\n",
       "      <td>2023</td>\n",
       "      <td>034</td>\n",
       "      <td>00</td>\n",
       "      <td>OR_ABI-L1b-RadC-M6C16_G18_s20230340026176_e202...</td>\n",
       "    </tr>\n",
       "    <tr>\n",
       "      <th>838378</th>\n",
       "      <td>ABI-L1b-RadC</td>\n",
       "      <td>2023</td>\n",
       "      <td>034</td>\n",
       "      <td>00</td>\n",
       "      <td>OR_ABI-L1b-RadC-M6C16_G18_s20230340031176_e202...</td>\n",
       "    </tr>\n",
       "    <tr>\n",
       "      <th>838379</th>\n",
       "      <td>ABI-L1b-RadC</td>\n",
       "      <td>2023</td>\n",
       "      <td>034</td>\n",
       "      <td>00</td>\n",
       "      <td>OR_ABI-L1b-RadC-M6C16_G18_s20230340036176_e202...</td>\n",
       "    </tr>\n",
       "    <tr>\n",
       "      <th>838380</th>\n",
       "      <td>ABI-L1b-RadC</td>\n",
       "      <td>2023</td>\n",
       "      <td>034</td>\n",
       "      <td>00</td>\n",
       "      <td>OR_ABI-L1b-RadC-M6C16_G18_s20230340041176_e202...</td>\n",
       "    </tr>\n",
       "  </tbody>\n",
       "</table>\n",
       "</div>"
      ],
      "text/plain": [
       "             Product  Year  Day Hour  \\\n",
       "838376  ABI-L1b-RadC  2023  034   00   \n",
       "838377  ABI-L1b-RadC  2023  034   00   \n",
       "838378  ABI-L1b-RadC  2023  034   00   \n",
       "838379  ABI-L1b-RadC  2023  034   00   \n",
       "838380  ABI-L1b-RadC  2023  034   00   \n",
       "\n",
       "                                                File Name  \n",
       "838376  OR_ABI-L1b-RadC-M6C16_G18_s20230340021176_e202...  \n",
       "838377  OR_ABI-L1b-RadC-M6C16_G18_s20230340026176_e202...  \n",
       "838378  OR_ABI-L1b-RadC-M6C16_G18_s20230340031176_e202...  \n",
       "838379  OR_ABI-L1b-RadC-M6C16_G18_s20230340036176_e202...  \n",
       "838380  OR_ABI-L1b-RadC-M6C16_G18_s20230340041176_e202...  "
      ]
     },
     "execution_count": 43,
     "metadata": {},
     "output_type": "execute_result"
    }
   ],
   "source": [
    "data.tail()"
   ]
  },
  {
   "cell_type": "code",
   "execution_count": 44,
   "metadata": {},
   "outputs": [],
   "source": [
    "# Connect to SQLite database\n",
    "db_engine = sqlite3.connect(\"database/s3_metadata.db\")"
   ]
  },
  {
   "cell_type": "code",
   "execution_count": 45,
   "metadata": {},
   "outputs": [],
   "source": [
    "#  Write the data frame to the SQLite database\n",
    "data.to_sql(\"goes\", db_engine, if_exists=\"replace\")\n",
    "\n",
    "# Close the connection\n",
    "db_engine.close()"
   ]
  },
  {
   "cell_type": "code",
   "execution_count": 46,
   "metadata": {},
   "outputs": [],
   "source": [
    "db_engine = sqlite3.connect(\"database/s3_metadata.db\")\n",
    "#Reading files from the DB\n",
    "query = \"SELECT * FROM goes;\"\n",
    "goes_data = pd.read_sql(query, db_engine)\n",
    "db_engine.close()"
   ]
  },
  {
   "cell_type": "code",
   "execution_count": 47,
   "metadata": {},
   "outputs": [
    {
     "data": {
      "text/html": [
       "<div>\n",
       "<style scoped>\n",
       "    .dataframe tbody tr th:only-of-type {\n",
       "        vertical-align: middle;\n",
       "    }\n",
       "\n",
       "    .dataframe tbody tr th {\n",
       "        vertical-align: top;\n",
       "    }\n",
       "\n",
       "    .dataframe thead th {\n",
       "        text-align: right;\n",
       "    }\n",
       "</style>\n",
       "<table border=\"1\" class=\"dataframe\">\n",
       "  <thead>\n",
       "    <tr style=\"text-align: right;\">\n",
       "      <th></th>\n",
       "      <th>index</th>\n",
       "      <th>Product</th>\n",
       "      <th>Year</th>\n",
       "      <th>Day</th>\n",
       "      <th>Hour</th>\n",
       "      <th>File Name</th>\n",
       "    </tr>\n",
       "  </thead>\n",
       "  <tbody>\n",
       "    <tr>\n",
       "      <th>0</th>\n",
       "      <td>0</td>\n",
       "      <td>ABI-L1b-RadC</td>\n",
       "      <td>2022</td>\n",
       "      <td>209</td>\n",
       "      <td>00</td>\n",
       "      <td>OR_ABI-L1b-RadC-M6C01_G18_s20222090001140_e202...</td>\n",
       "    </tr>\n",
       "    <tr>\n",
       "      <th>1</th>\n",
       "      <td>1</td>\n",
       "      <td>ABI-L1b-RadC</td>\n",
       "      <td>2022</td>\n",
       "      <td>209</td>\n",
       "      <td>00</td>\n",
       "      <td>OR_ABI-L1b-RadC-M6C01_G18_s20222090006140_e202...</td>\n",
       "    </tr>\n",
       "    <tr>\n",
       "      <th>2</th>\n",
       "      <td>2</td>\n",
       "      <td>ABI-L1b-RadC</td>\n",
       "      <td>2022</td>\n",
       "      <td>209</td>\n",
       "      <td>00</td>\n",
       "      <td>OR_ABI-L1b-RadC-M6C01_G18_s20222090011140_e202...</td>\n",
       "    </tr>\n",
       "    <tr>\n",
       "      <th>3</th>\n",
       "      <td>3</td>\n",
       "      <td>ABI-L1b-RadC</td>\n",
       "      <td>2022</td>\n",
       "      <td>209</td>\n",
       "      <td>00</td>\n",
       "      <td>OR_ABI-L1b-RadC-M6C01_G18_s20222090016140_e202...</td>\n",
       "    </tr>\n",
       "    <tr>\n",
       "      <th>4</th>\n",
       "      <td>4</td>\n",
       "      <td>ABI-L1b-RadC</td>\n",
       "      <td>2022</td>\n",
       "      <td>209</td>\n",
       "      <td>00</td>\n",
       "      <td>OR_ABI-L1b-RadC-M6C01_G18_s20222090021140_e202...</td>\n",
       "    </tr>\n",
       "  </tbody>\n",
       "</table>\n",
       "</div>"
      ],
      "text/plain": [
       "   index       Product  Year  Day Hour  \\\n",
       "0      0  ABI-L1b-RadC  2022  209   00   \n",
       "1      1  ABI-L1b-RadC  2022  209   00   \n",
       "2      2  ABI-L1b-RadC  2022  209   00   \n",
       "3      3  ABI-L1b-RadC  2022  209   00   \n",
       "4      4  ABI-L1b-RadC  2022  209   00   \n",
       "\n",
       "                                           File Name  \n",
       "0  OR_ABI-L1b-RadC-M6C01_G18_s20222090001140_e202...  \n",
       "1  OR_ABI-L1b-RadC-M6C01_G18_s20222090006140_e202...  \n",
       "2  OR_ABI-L1b-RadC-M6C01_G18_s20222090011140_e202...  \n",
       "3  OR_ABI-L1b-RadC-M6C01_G18_s20222090016140_e202...  \n",
       "4  OR_ABI-L1b-RadC-M6C01_G18_s20222090021140_e202...  "
      ]
     },
     "execution_count": 47,
     "metadata": {},
     "output_type": "execute_result"
    }
   ],
   "source": [
    "goes_data.head()"
   ]
  }
 ],
 "metadata": {
  "kernelspec": {
   "display_name": "a1_venv",
   "language": "python",
   "name": "python3"
  },
  "language_info": {
   "codemirror_mode": {
    "name": "ipython",
    "version": 3
   },
   "file_extension": ".py",
   "mimetype": "text/x-python",
   "name": "python",
   "nbconvert_exporter": "python",
   "pygments_lexer": "ipython3",
   "version": "3.9.6"
  },
  "orig_nbformat": 4,
  "vscode": {
   "interpreter": {
    "hash": "540a006c3f1329c2ba1ed44e8396ff1e5f2305e5676b034d8b81955a6f143a0b"
   }
  }
 },
 "nbformat": 4,
 "nbformat_minor": 2
}
