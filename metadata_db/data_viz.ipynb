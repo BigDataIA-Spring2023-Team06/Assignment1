{
 "cells": [
  {
   "cell_type": "code",
   "execution_count": 2,
   "metadata": {},
   "outputs": [],
   "source": [
    "import sqlite3\n",
    "import pandas as pd"
   ]
  },
  {
   "cell_type": "code",
   "execution_count": 3,
   "metadata": {},
   "outputs": [],
   "source": [
    "db_engine = sqlite3.connect('s3_metadata_goes.db')"
   ]
  },
  {
   "cell_type": "code",
   "execution_count": 4,
   "metadata": {},
   "outputs": [],
   "source": [
    "query = \"select * from goes;\"\n",
    "data = pd.read_sql(query, db_engine)"
   ]
  },
  {
   "cell_type": "code",
   "execution_count": 9,
   "metadata": {},
   "outputs": [
    {
     "data": {
      "text/html": [
       "<div>\n",
       "<style scoped>\n",
       "    .dataframe tbody tr th:only-of-type {\n",
       "        vertical-align: middle;\n",
       "    }\n",
       "\n",
       "    .dataframe tbody tr th {\n",
       "        vertical-align: top;\n",
       "    }\n",
       "\n",
       "    .dataframe thead th {\n",
       "        text-align: right;\n",
       "    }\n",
       "</style>\n",
       "<table border=\"1\" class=\"dataframe\">\n",
       "  <thead>\n",
       "    <tr style=\"text-align: right;\">\n",
       "      <th></th>\n",
       "      <th>index</th>\n",
       "      <th>Year</th>\n",
       "      <th>Day</th>\n",
       "      <th>Hour</th>\n",
       "    </tr>\n",
       "  </thead>\n",
       "  <tbody>\n",
       "    <tr>\n",
       "      <th>847297</th>\n",
       "      <td>847297</td>\n",
       "      <td>2023</td>\n",
       "      <td>035</td>\n",
       "      <td>23</td>\n",
       "    </tr>\n",
       "    <tr>\n",
       "      <th>847298</th>\n",
       "      <td>847298</td>\n",
       "      <td>2023</td>\n",
       "      <td>035</td>\n",
       "      <td>23</td>\n",
       "    </tr>\n",
       "    <tr>\n",
       "      <th>847299</th>\n",
       "      <td>847299</td>\n",
       "      <td>2023</td>\n",
       "      <td>035</td>\n",
       "      <td>23</td>\n",
       "    </tr>\n",
       "    <tr>\n",
       "      <th>847300</th>\n",
       "      <td>847300</td>\n",
       "      <td>2023</td>\n",
       "      <td>035</td>\n",
       "      <td>23</td>\n",
       "    </tr>\n",
       "    <tr>\n",
       "      <th>847301</th>\n",
       "      <td>847301</td>\n",
       "      <td>2023</td>\n",
       "      <td>035</td>\n",
       "      <td>23</td>\n",
       "    </tr>\n",
       "    <tr>\n",
       "      <th>...</th>\n",
       "      <td>...</td>\n",
       "      <td>...</td>\n",
       "      <td>...</td>\n",
       "      <td>...</td>\n",
       "    </tr>\n",
       "    <tr>\n",
       "      <th>847592</th>\n",
       "      <td>847592</td>\n",
       "      <td>2023</td>\n",
       "      <td>036</td>\n",
       "      <td>00</td>\n",
       "    </tr>\n",
       "    <tr>\n",
       "      <th>847593</th>\n",
       "      <td>847593</td>\n",
       "      <td>2023</td>\n",
       "      <td>036</td>\n",
       "      <td>00</td>\n",
       "    </tr>\n",
       "    <tr>\n",
       "      <th>847594</th>\n",
       "      <td>847594</td>\n",
       "      <td>2023</td>\n",
       "      <td>036</td>\n",
       "      <td>00</td>\n",
       "    </tr>\n",
       "    <tr>\n",
       "      <th>847595</th>\n",
       "      <td>847595</td>\n",
       "      <td>2023</td>\n",
       "      <td>036</td>\n",
       "      <td>00</td>\n",
       "    </tr>\n",
       "    <tr>\n",
       "      <th>847596</th>\n",
       "      <td>847596</td>\n",
       "      <td>2023</td>\n",
       "      <td>036</td>\n",
       "      <td>00</td>\n",
       "    </tr>\n",
       "  </tbody>\n",
       "</table>\n",
       "<p>300 rows × 4 columns</p>\n",
       "</div>"
      ],
      "text/plain": [
       "         index  Year  Day Hour\n",
       "847297  847297  2023  035   23\n",
       "847298  847298  2023  035   23\n",
       "847299  847299  2023  035   23\n",
       "847300  847300  2023  035   23\n",
       "847301  847301  2023  035   23\n",
       "...        ...   ...  ...  ...\n",
       "847592  847592  2023  036   00\n",
       "847593  847593  2023  036   00\n",
       "847594  847594  2023  036   00\n",
       "847595  847595  2023  036   00\n",
       "847596  847596  2023  036   00\n",
       "\n",
       "[300 rows x 4 columns]"
      ]
     },
     "execution_count": 9,
     "metadata": {},
     "output_type": "execute_result"
    }
   ],
   "source": [
    "data.tail(300)"
   ]
  },
  {
   "cell_type": "code",
   "execution_count": null,
   "metadata": {},
   "outputs": [],
   "source": []
  }
 ],
 "metadata": {
  "kernelspec": {
   "display_name": "a1_venv",
   "language": "python",
   "name": "python3"
  },
  "language_info": {
   "codemirror_mode": {
    "name": "ipython",
    "version": 3
   },
   "file_extension": ".py",
   "mimetype": "text/x-python",
   "name": "python",
   "nbconvert_exporter": "python",
   "pygments_lexer": "ipython3",
   "version": "3.10.4 (v3.10.4:9d38120e33, Mar 23 2022, 17:29:05) [Clang 13.0.0 (clang-1300.0.29.30)]"
  },
  "orig_nbformat": 4,
  "vscode": {
   "interpreter": {
    "hash": "a74b6ebc7e2bbe2ee67a643cf73e2df445244a12be177110aa78280054e5b1ce"
   }
  }
 },
 "nbformat": 4,
 "nbformat_minor": 2
}
